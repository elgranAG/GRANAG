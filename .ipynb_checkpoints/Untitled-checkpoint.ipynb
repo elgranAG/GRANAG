{
 "cells": [
  {
   "cell_type": "code",
   "execution_count": 10,
   "id": "0432b4a7-4df6-479f-a784-0380abcf774f",
   "metadata": {},
   "outputs": [],
   "source": [
    "import cv2\n",
    "import numpy as np\n",
    "import matplotlib.pyplot as plt\n",
    "\n",
    "imagen_path = 'biologia.jpg'\n",
    "imagen = cv2.imread(image_path)\n",
    "\n",
    "Mispixeles = imagen[10:100,50:80,0]\n"
   ]
  },
  {
   "cell_type": "code",
   "execution_count": 14,
   "id": "b4751a3a-f023-4aaa-bfbd-2b0e33e8df77",
   "metadata": {},
   "outputs": [
    {
     "ename": "SyntaxError",
     "evalue": "invalid syntax (1779647806.py, line 1)",
     "output_type": "error",
     "traceback": [
      "\u001b[1;36m  Cell \u001b[1;32mIn[14], line 1\u001b[1;36m\u001b[0m\n\u001b[1;33m    black = np.where((imagen[:,:,0] == & (imagen[:,:,1] == & (imagen[:,:,2] == 0))\u001b[0m\n\u001b[1;37m                                       ^\u001b[0m\n\u001b[1;31mSyntaxError\u001b[0m\u001b[1;31m:\u001b[0m invalid syntax\n"
     ]
    }
   ],
   "source": [
    "black = np.where((imagen[:,:,0] == & (imagen[:,:,1] == & (imagen[:,:,2] == 0))\n",
    "imagen[black] = (255,255,255)                  "
   ]
  },
  {
   "cell_type": "code",
   "execution_count": 11,
   "id": "e04719fb-8921-41ec-86cd-035591ebca41",
   "metadata": {},
   "outputs": [
    {
     "data": {
      "text/plain": [
       "array([[236, 236, 235, ..., 226, 227, 227],\n",
       "       [236, 236, 236, ..., 225, 226, 225],\n",
       "       [236, 236, 236, ..., 224, 225, 224],\n",
       "       ...,\n",
       "       [238, 239, 237, ..., 239, 238, 240],\n",
       "       [235, 236, 235, ..., 241, 241, 242],\n",
       "       [233, 234, 233, ..., 242, 241, 243]], dtype=uint8)"
      ]
     },
     "execution_count": 11,
     "metadata": {},
     "output_type": "execute_result"
    }
   ],
   "source": [
    "Mispixeles"
   ]
  },
  {
   "cell_type": "code",
   "execution_count": 15,
   "id": "9f41e969-191b-41e0-b908-54990147059b",
   "metadata": {},
   "outputs": [
    {
     "ename": "NameError",
     "evalue": "name 'imagen' is not defined",
     "output_type": "error",
     "traceback": [
      "\u001b[1;31m---------------------------------------------------------------------------\u001b[0m",
      "\u001b[1;31mNameError\u001b[0m                                 Traceback (most recent call last)",
      "Cell \u001b[1;32mIn[15], line 5\u001b[0m\n\u001b[0;32m      3\u001b[0m plt\u001b[38;5;241m.\u001b[39msubplot(\u001b[38;5;241m1\u001b[39m, \u001b[38;5;241m3\u001b[39m, \u001b[38;5;241m1\u001b[39m)\n\u001b[0;32m      4\u001b[0m plt\u001b[38;5;241m.\u001b[39mtitle(\u001b[38;5;124m'\u001b[39m\u001b[38;5;124mImagen Original\u001b[39m\u001b[38;5;124m'\u001b[39m)\n\u001b[1;32m----> 5\u001b[0m plt\u001b[38;5;241m.\u001b[39mimshow(\u001b[43mimagen\u001b[49m)\n\u001b[0;32m      6\u001b[0m plt\u001b[38;5;241m.\u001b[39maxis(\u001b[38;5;124m'\u001b[39m\u001b[38;5;124moff\u001b[39m\u001b[38;5;124m'\u001b[39m)\n\u001b[0;32m      8\u001b[0m plt\u001b[38;5;241m.\u001b[39msubplot(\u001b[38;5;241m1\u001b[39m, \u001b[38;5;241m3\u001b[39m, \u001b[38;5;241m2\u001b[39m)\n",
      "\u001b[1;31mNameError\u001b[0m: name 'imagen' is not defined"
     ]
    },
    {
     "data": {
      "image/png": "[encoded data removed]",
      "text/plain": [
       "<Figure size 1500x400 with 1 Axes>"
      ]
     },
     "metadata": {},
     "output_type": "display_data"
    }
   ],
   "source": [
    "plt.figure(figsize=(15, 4))\n",
    "\n",
    "plt.subplot(1, 3, 1)\n",
    "plt.title('Imagen Original')\n",
    "plt.imshow(imagen)\n",
    "plt.axis('off')\n",
    "\n",
    "plt.subplot(1, 3, 2)\n",
    "plt.title('deteccion de bordes')\n",
    "plt.imshow(imagen1, cmap='gray')\n",
    "plt.axis('off')\n",
    "\n",
    "plt.subplot(1, 3, 3)\n",
    "plt.title('Desenfoque')\n",
    "plt.imshow(imagen2)\n",
    "plt.axis('off')\n",
    "\n",
    "\n",
    "plt.tight_layout()\n",
    "plt.show()"
   ]
  },
  {
   "cell_type": "code",
   "execution_count": null,
   "id": "fa01e547-1db6-4e94-b4c8-4623b5dfaf93",
   "metadata": {},
   "outputs": [],
   "source": []
  }
 ],
 "metadata": {
  "kernelspec": {
   "display_name": "Python 3 (ipykernel)",
   "language": "python",
   "name": "python3"
  },
  "language_info": {
   "codemirror_mode": {
    "name": "ipython",
    "version": 3
   },
   "file_extension": ".py",
   "mimetype": "text/x-python",
   "name": "python",
   "nbconvert_exporter": "python",
   "pygments_lexer": "ipython3",
   "version": "3.11.4"
  }
 },
 "nbformat": 4,
 "nbformat_minor": 5
}
