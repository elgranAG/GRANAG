{
 "cells": [
  {
   "cell_type": "markdown",
   "id": "d5ff3ca9-66a9-4c68-ba5e-885ae9360bb2",
   "metadata": {},
   "source": [
    "# HOLA MUNDO"
   ]
  },
  {
   "cell_type": "code",
   "execution_count": 2,
   "id": "7d5eee34-f9b9-4967-864d-8899fa606f9c",
   "metadata": {},
   "outputs": [
    {
     "name": "stdout",
     "output_type": "stream",
     "text": [
      "hola astronauta\n"
     ]
    }
   ],
   "source": [
    "print(\"hola astronauta\")"
   ]
  },
  {
   "cell_type": "markdown",
   "id": "8d81e0d9-2454-46d3-9df6-4206ee7f6735",
   "metadata": {},
   "source": [
    "## ESCRIBIENDO EN INGLES"
   ]
  },
  {
   "cell_type": "markdown",
   "id": "fd316ddf-7c1d-463b-9a3b-765a29a8c2eb",
   "metadata": {},
   "source": []
  }
 ],
 "metadata": {
  "kernelspec": {
   "display_name": "Python 3 (ipykernel)",
   "language": "python",
   "name": "python3"
  },
  "language_info": {
   "codemirror_mode": {
    "name": "ipython",
    "version": 3
   },
   "file_extension": ".py",
   "mimetype": "text/x-python",
   "name": "python",
   "nbconvert_exporter": "python",
   "pygments_lexer": "ipython3",
   "version": "3.11.4"
  }
 },
 "nbformat": 4,
 "nbformat_minor": 5
}
