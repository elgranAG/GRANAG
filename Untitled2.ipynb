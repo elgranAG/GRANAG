{
 "cells": [
  {
   "cell_type": "markdown",
   "id": "546d2908-4885-4663-92e6-f44850af5b75",
   "metadata": {},
   "source": [
    "## CÓDIGO DE DESPLAZAMIENTO\n"
   ]
  },
  {
   "cell_type": "code",
   "execution_count": null,
   "id": "7fbe55df-5b96-4006-9b1b-a844bc0f38a5",
   "metadata": {},
   "outputs": [],
   "source": []
  }
 ],
 "metadata": {
  "kernelspec": {
   "display_name": "Python 3 (ipykernel)",
   "language": "python",
   "name": "python3"
  },
  "language_info": {
   "codemirror_mode": {
    "name": "ipython",
    "version": 3
   },
   "file_extension": ".py",
   "mimetype": "text/x-python",
   "name": "python",
   "nbconvert_exporter": "python",
   "pygments_lexer": "ipython3",
   "version": "3.11.4"
  }
 },
 "nbformat": 4,
 "nbformat_minor": 5
}
