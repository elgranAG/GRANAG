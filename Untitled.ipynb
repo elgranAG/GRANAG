{
 "cells": [
  {
   "cell_type": "markdown",
   "id": "d23dd7bb-4531-4706-bf89-11cf53653274",
   "metadata": {},
   "source": [
    "## MATRIZ DE CONVOLUCIÓN"
   ]
  },
  {
   "cell_type": "code",
   "execution_count": null,
   "id": "a55cbce0-1e5f-49f9-8665-a7aa57053810",
   "metadata": {},
   "outputs": [],
   "source": [
    "import cv2\n",
    "import matplotlib.pyplot as plt\n",
    "import numpy as np"
   ]
  },
  {
   "cell_type": "code",
   "execution_count": null,
   "id": "7b45c76b-8ee4-4b6d-8dc0-4cf2f5737358",
   "metadata": {},
   "outputs": [],
   "source": []
  },
  {
   "cell_type": "code",
   "execution_count": null,
   "id": "077489b8-6fe6-465a-9628-ea8ca9ce93b6",
   "metadata": {},
   "outputs": [],
   "source": []
  },
  {
   "cell_type": "code",
   "execution_count": null,
   "id": "bbc03236-060a-4488-b4cc-460886424369",
   "metadata": {},
   "outputs": [],
   "source": []
  }
 ],
 "metadata": {
  "kernelspec": {
   "display_name": "Python 3 (ipykernel)",
   "language": "python",
   "name": "python3"
  },
  "language_info": {
   "codemirror_mode": {
    "name": "ipython",
    "version": 3
   },
   "file_extension": ".py",
   "mimetype": "text/x-python",
   "name": "python",
   "nbconvert_exporter": "python",
   "pygments_lexer": "ipython3",
   "version": "3.11.4"
  }
 },
 "nbformat": 4,
 "nbformat_minor": 5
}
